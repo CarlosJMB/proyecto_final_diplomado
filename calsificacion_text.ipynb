{
 "cells": [
  {
   "cell_type": "markdown",
   "id": "9a1e09dd",
   "metadata": {},
   "source": [
    "# 1. Introducción\n",
    "# ------------------------------\n",
    "\n",
    "En este notebook aprenderemos sobre la clasificación de texto en el ámbito de la salud. \n",
    "La clasificación de texto es una tarea de procesamiento de lenguaje natural (NLP) que consiste \n",
    "en asignar etiquetas o categorías a documentos de texto. \n",
    "\n",
    "En salud, puede utilizarse para:\n",
    "- Clasificar notas médicas según especialidad o tipo de diagnóstico.\n",
    "- Analizar reseñas de pacientes sobre servicios médicos.\n",
    "- Detectar sentimientos en comentarios sobre tratamientos.\n",
    "\n",
    "Objetivos:\n",
    "1. Entender qué es la clasificación de texto.\n",
    "2. Aprender a procesar texto médico.\n",
    "3. Entrenar modelos de clasificación con Python.\n",
    "4. Evaluar y reflexionar sobre los resultados."
   ]
  },
  {
   "cell_type": "markdown",
   "id": "c7001cfb",
   "metadata": {},
   "source": [
    "# ------------------------------\n",
    "# 2. Conceptos clave\n",
    "# ------------------------------\n",
    "\n",
    "- **Tokenización**: dividir el texto en palabras o frases (tokens).\n",
    "- **Stopwords**: palabras comunes que se pueden eliminar (\"el\", \"la\", \"y\").\n",
    "- **Vectorización**: convertir texto en números que los modelos pueden usar (TF-IDF, CountVectorizer).\n",
    "- **Clasificador**: algoritmo que aprende a asignar etiquetas (Naive Bayes, Logistic Regression, Random Forest, etc.)\n",
    "- **Métricas de evaluación**: Accuracy, Precision, Recall, F1-score."
   ]
  },
  {
   "cell_type": "markdown",
   "id": "6b9ea0c6",
   "metadata": {},
   "source": [
    "# ------------------------------\n",
    "# 3. Preparación del entorno\n",
    "# ------------------------------"
   ]
  },
  {
   "cell_type": "code",
   "execution_count": 6,
   "id": "99408b6d",
   "metadata": {},
   "outputs": [
    {
     "name": "stdout",
     "output_type": "stream",
     "text": [
      "Requirement already satisfied: scikit-learn in c:\\users\\cjmac\\.pyenv\\pyenv-win\\versions\\3.11.8\\lib\\site-packages (1.7.0)\n",
      "Requirement already satisfied: pandas in c:\\users\\cjmac\\.pyenv\\pyenv-win\\versions\\3.11.8\\lib\\site-packages (2.3.0)\n",
      "Requirement already satisfied: matplotlib in c:\\users\\cjmac\\.pyenv\\pyenv-win\\versions\\3.11.8\\lib\\site-packages (3.10.3)\n",
      "Requirement already satisfied: seaborn in c:\\users\\cjmac\\.pyenv\\pyenv-win\\versions\\3.11.8\\lib\\site-packages (0.13.2)\n",
      "Requirement already satisfied: nltk in c:\\users\\cjmac\\.pyenv\\pyenv-win\\versions\\3.11.8\\lib\\site-packages (3.9.1)\n",
      "Requirement already satisfied: numpy in c:\\users\\cjmac\\.pyenv\\pyenv-win\\versions\\3.11.8\\lib\\site-packages (2.2.6)\n",
      "Requirement already satisfied: scipy>=1.8.0 in c:\\users\\cjmac\\.pyenv\\pyenv-win\\versions\\3.11.8\\lib\\site-packages (from scikit-learn) (1.16.0)\n",
      "Requirement already satisfied: joblib>=1.2.0 in c:\\users\\cjmac\\.pyenv\\pyenv-win\\versions\\3.11.8\\lib\\site-packages (from scikit-learn) (1.5.1)\n",
      "Requirement already satisfied: threadpoolctl>=3.1.0 in c:\\users\\cjmac\\.pyenv\\pyenv-win\\versions\\3.11.8\\lib\\site-packages (from scikit-learn) (3.6.0)\n",
      "Requirement already satisfied: python-dateutil>=2.8.2 in c:\\users\\cjmac\\.pyenv\\pyenv-win\\versions\\3.11.8\\lib\\site-packages (from pandas) (2.9.0.post0)\n",
      "Requirement already satisfied: pytz>=2020.1 in c:\\users\\cjmac\\.pyenv\\pyenv-win\\versions\\3.11.8\\lib\\site-packages (from pandas) (2025.2)\n",
      "Requirement already satisfied: tzdata>=2022.7 in c:\\users\\cjmac\\.pyenv\\pyenv-win\\versions\\3.11.8\\lib\\site-packages (from pandas) (2025.2)\n",
      "Requirement already satisfied: contourpy>=1.0.1 in c:\\users\\cjmac\\.pyenv\\pyenv-win\\versions\\3.11.8\\lib\\site-packages (from matplotlib) (1.3.2)\n",
      "Requirement already satisfied: cycler>=0.10 in c:\\users\\cjmac\\.pyenv\\pyenv-win\\versions\\3.11.8\\lib\\site-packages (from matplotlib) (0.12.1)\n",
      "Requirement already satisfied: fonttools>=4.22.0 in c:\\users\\cjmac\\.pyenv\\pyenv-win\\versions\\3.11.8\\lib\\site-packages (from matplotlib) (4.58.2)\n",
      "Requirement already satisfied: kiwisolver>=1.3.1 in c:\\users\\cjmac\\.pyenv\\pyenv-win\\versions\\3.11.8\\lib\\site-packages (from matplotlib) (1.4.8)\n",
      "Requirement already satisfied: packaging>=20.0 in c:\\users\\cjmac\\.pyenv\\pyenv-win\\versions\\3.11.8\\lib\\site-packages (from matplotlib) (25.0)\n",
      "Requirement already satisfied: pillow>=8 in c:\\users\\cjmac\\.pyenv\\pyenv-win\\versions\\3.11.8\\lib\\site-packages (from matplotlib) (11.2.1)\n",
      "Requirement already satisfied: pyparsing>=2.3.1 in c:\\users\\cjmac\\.pyenv\\pyenv-win\\versions\\3.11.8\\lib\\site-packages (from matplotlib) (3.2.3)\n",
      "Requirement already satisfied: click in c:\\users\\cjmac\\.pyenv\\pyenv-win\\versions\\3.11.8\\lib\\site-packages (from nltk) (8.2.1)\n",
      "Requirement already satisfied: regex>=2021.8.3 in c:\\users\\cjmac\\.pyenv\\pyenv-win\\versions\\3.11.8\\lib\\site-packages (from nltk) (2025.9.18)\n",
      "Requirement already satisfied: tqdm in c:\\users\\cjmac\\.pyenv\\pyenv-win\\versions\\3.11.8\\lib\\site-packages (from nltk) (4.67.1)\n",
      "Requirement already satisfied: six>=1.5 in c:\\users\\cjmac\\.pyenv\\pyenv-win\\versions\\3.11.8\\lib\\site-packages (from python-dateutil>=2.8.2->pandas) (1.17.0)\n",
      "Requirement already satisfied: colorama in c:\\users\\cjmac\\.pyenv\\pyenv-win\\versions\\3.11.8\\lib\\site-packages (from click->nltk) (0.4.6)\n",
      "Note: you may need to restart the kernel to use updated packages.\n"
     ]
    },
    {
     "name": "stderr",
     "output_type": "stream",
     "text": [
      "\n",
      "[notice] A new release of pip is available: 25.1.1 -> 25.2\n",
      "[notice] To update, run: c:\\Users\\cjmac\\.pyenv\\pyenv-win\\versions\\3.11.8\\python.exe -m pip install --upgrade pip\n"
     ]
    }
   ],
   "source": [
    "%pip install scikit-learn pandas matplotlib seaborn nltk numpy"
   ]
  },
  {
   "cell_type": "code",
   "execution_count": 7,
   "id": "422196b6",
   "metadata": {},
   "outputs": [
    {
     "name": "stderr",
     "output_type": "stream",
     "text": [
      "[nltk_data] Downloading package stopwords to\n",
      "[nltk_data]     C:\\Users\\cjmac\\AppData\\Roaming\\nltk_data...\n",
      "[nltk_data]   Package stopwords is already up-to-date!\n"
     ]
    }
   ],
   "source": [
    "\n",
    "import pandas as pd\n",
    "import numpy as np\n",
    "import matplotlib.pyplot as plt\n",
    "import seaborn as sns\n",
    "from sklearn.model_selection import train_test_split\n",
    "from sklearn.feature_extraction.text import CountVectorizer, TfidfVectorizer\n",
    "from sklearn.naive_bayes import MultinomialNB\n",
    "from sklearn.linear_model import LogisticRegression\n",
    "from sklearn.metrics import classification_report, confusion_matrix\n",
    "import nltk\n",
    "from nltk.corpus import stopwords\n",
    "import string\n",
    "\n",
    "# Descargar stopwords\n",
    "nltk.download('stopwords')\n",
    "stop_words = set(stopwords.words('spanish'))"
   ]
  },
  {
   "cell_type": "markdown",
   "id": "bbdcd9e4",
   "metadata": {},
   "source": [
    "# ------------------------------\n",
    "# 4. Cargar dataset\n",
    "# ------------------------------\n",
    "Para este ejemplo usaremos un dataset simulado de reseñas médicas con etiquetas de \n",
    "'satisfacción': 'positivo' o 'negativo'. Esto se puede reemplazar con datos reales de hospitales."
   ]
  },
  {
   "cell_type": "code",
   "execution_count": 8,
   "id": "c33e1152",
   "metadata": {},
   "outputs": [
    {
     "name": "stdout",
     "output_type": "stream",
     "text": [
      "Vista previa del dataset:\n"
     ]
    },
    {
     "data": {
      "text/html": [
       "<div>\n",
       "<style scoped>\n",
       "    .dataframe tbody tr th:only-of-type {\n",
       "        vertical-align: middle;\n",
       "    }\n",
       "\n",
       "    .dataframe tbody tr th {\n",
       "        vertical-align: top;\n",
       "    }\n",
       "\n",
       "    .dataframe thead th {\n",
       "        text-align: right;\n",
       "    }\n",
       "</style>\n",
       "<table border=\"1\" class=\"dataframe\">\n",
       "  <thead>\n",
       "    <tr style=\"text-align: right;\">\n",
       "      <th></th>\n",
       "      <th>review</th>\n",
       "      <th>label</th>\n",
       "    </tr>\n",
       "  </thead>\n",
       "  <tbody>\n",
       "    <tr>\n",
       "      <th>0</th>\n",
       "      <td>El doctor fue muy amable y atento</td>\n",
       "      <td>positivo</td>\n",
       "    </tr>\n",
       "    <tr>\n",
       "      <th>1</th>\n",
       "      <td>El doctor no respondió mis preguntas</td>\n",
       "      <td>negativo</td>\n",
       "    </tr>\n",
       "    <tr>\n",
       "      <th>2</th>\n",
       "      <td>Excelente atención y servicio</td>\n",
       "      <td>positivo</td>\n",
       "    </tr>\n",
       "    <tr>\n",
       "      <th>3</th>\n",
       "      <td>Nunca volveré a este hospital</td>\n",
       "      <td>negativo</td>\n",
       "    </tr>\n",
       "    <tr>\n",
       "      <th>4</th>\n",
       "      <td>El personal de recepción fue muy cordial</td>\n",
       "      <td>positivo</td>\n",
       "    </tr>\n",
       "  </tbody>\n",
       "</table>\n",
       "</div>"
      ],
      "text/plain": [
       "                                     review     label\n",
       "0         El doctor fue muy amable y atento  positivo\n",
       "1      El doctor no respondió mis preguntas  negativo\n",
       "2             Excelente atención y servicio  positivo\n",
       "3             Nunca volveré a este hospital  negativo\n",
       "4  El personal de recepción fue muy cordial  positivo"
      ]
     },
     "metadata": {},
     "output_type": "display_data"
    },
    {
     "name": "stdout",
     "output_type": "stream",
     "text": [
      "\n",
      "Distribución de clases:\n",
      "label\n",
      "positivo    100\n",
      "negativo    100\n",
      "Name: count, dtype: int64\n"
     ]
    }
   ],
   "source": [
    "\n",
    "df = pd.read_csv(\"medical_reviews.csv\",encoding=\"utf-8\")\n",
    "# Ver primeras filas\n",
    "print(\"Vista previa del dataset:\")\n",
    "display(df.head())\n",
    "# Ver balance de clases\n",
    "print(\"\\nDistribución de clases:\")\n",
    "print(df['label'].value_counts())"
   ]
  },
  {
   "cell_type": "markdown",
   "id": "9960dec1",
   "metadata": {},
   "source": [
    "# ------------------------------\n",
    "# 5. Preprocesamiento del texto\n",
    "# ------------------------------"
   ]
  },
  {
   "cell_type": "code",
   "execution_count": 9,
   "id": "f01423b7",
   "metadata": {},
   "outputs": [
    {
     "data": {
      "text/html": [
       "<div>\n",
       "<style scoped>\n",
       "    .dataframe tbody tr th:only-of-type {\n",
       "        vertical-align: middle;\n",
       "    }\n",
       "\n",
       "    .dataframe tbody tr th {\n",
       "        vertical-align: top;\n",
       "    }\n",
       "\n",
       "    .dataframe thead th {\n",
       "        text-align: right;\n",
       "    }\n",
       "</style>\n",
       "<table border=\"1\" class=\"dataframe\">\n",
       "  <thead>\n",
       "    <tr style=\"text-align: right;\">\n",
       "      <th></th>\n",
       "      <th>review</th>\n",
       "      <th>label</th>\n",
       "      <th>clean_review</th>\n",
       "    </tr>\n",
       "  </thead>\n",
       "  <tbody>\n",
       "    <tr>\n",
       "      <th>0</th>\n",
       "      <td>El doctor fue muy amable y atento</td>\n",
       "      <td>positivo</td>\n",
       "      <td>doctor amable atento</td>\n",
       "    </tr>\n",
       "    <tr>\n",
       "      <th>1</th>\n",
       "      <td>El doctor no respondió mis preguntas</td>\n",
       "      <td>negativo</td>\n",
       "      <td>doctor respondió preguntas</td>\n",
       "    </tr>\n",
       "    <tr>\n",
       "      <th>2</th>\n",
       "      <td>Excelente atención y servicio</td>\n",
       "      <td>positivo</td>\n",
       "      <td>excelente atención servicio</td>\n",
       "    </tr>\n",
       "    <tr>\n",
       "      <th>3</th>\n",
       "      <td>Nunca volveré a este hospital</td>\n",
       "      <td>negativo</td>\n",
       "      <td>nunca volveré hospital</td>\n",
       "    </tr>\n",
       "    <tr>\n",
       "      <th>4</th>\n",
       "      <td>El personal de recepción fue muy cordial</td>\n",
       "      <td>positivo</td>\n",
       "      <td>personal recepción cordial</td>\n",
       "    </tr>\n",
       "  </tbody>\n",
       "</table>\n",
       "</div>"
      ],
      "text/plain": [
       "                                     review     label  \\\n",
       "0         El doctor fue muy amable y atento  positivo   \n",
       "1      El doctor no respondió mis preguntas  negativo   \n",
       "2             Excelente atención y servicio  positivo   \n",
       "3             Nunca volveré a este hospital  negativo   \n",
       "4  El personal de recepción fue muy cordial  positivo   \n",
       "\n",
       "                  clean_review  \n",
       "0         doctor amable atento  \n",
       "1   doctor respondió preguntas  \n",
       "2  excelente atención servicio  \n",
       "3       nunca volveré hospital  \n",
       "4   personal recepción cordial  "
      ]
     },
     "execution_count": 9,
     "metadata": {},
     "output_type": "execute_result"
    }
   ],
   "source": [
    "def preprocess_text(text):\n",
    "    # Minusculas\n",
    "    text = text.lower()\n",
    "    # Eliminar puntuación\n",
    "    text = text.translate(str.maketrans('', '', string.punctuation))\n",
    "    # Eliminar stopwords\n",
    "    tokens = text.split()\n",
    "    tokens = [word for word in tokens if word not in stop_words]\n",
    "    return \" \".join(tokens)\n",
    "\n",
    "df['clean_review'] = df['review'].apply(preprocess_text)\n",
    "df.head()"
   ]
  },
  {
   "cell_type": "markdown",
   "id": "976917ba",
   "metadata": {},
   "source": [
    "# ------------------------------\n",
    "# 6. División de datos\n",
    "# ------------------------------"
   ]
  },
  {
   "cell_type": "code",
   "execution_count": 10,
   "id": "23024217",
   "metadata": {},
   "outputs": [
    {
     "name": "stdout",
     "output_type": "stream",
     "text": [
      "Entrenamiento: 140 | Prueba: 60\n"
     ]
    }
   ],
   "source": [
    "X = df['clean_review']\n",
    "y = df['label']\n",
    "\n",
    "X_train, X_test, y_train, y_test = train_test_split(X, y, test_size=0.3, random_state=42)\n",
    "print(f\"Entrenamiento: {len(X_train)} | Prueba: {len(X_test)}\")\n"
   ]
  },
  {
   "cell_type": "markdown",
   "id": "8b12fe50",
   "metadata": {},
   "source": [
    "# ------------------------------\n",
    "# 7. Vectorización\n",
    "# ------------------------------"
   ]
  },
  {
   "cell_type": "code",
   "execution_count": 11,
   "id": "ca3f7879",
   "metadata": {},
   "outputs": [],
   "source": [
    "vectorizer = TfidfVectorizer()\n",
    "X_train_vec = vectorizer.fit_transform(X_train)\n",
    "X_test_vec = vectorizer.transform(X_test)\n"
   ]
  },
  {
   "cell_type": "markdown",
   "id": "9654c7ba",
   "metadata": {},
   "source": [
    "\n",
    "### 7.1. Exploración de vectores TF-IDF\n",
    "\n"
   ]
  },
  {
   "cell_type": "code",
   "execution_count": 12,
   "id": "f11974c6",
   "metadata": {},
   "outputs": [
    {
     "name": "stdout",
     "output_type": "stream",
     "text": [
      "Reseña seleccionada (índice 67): hospital sucio descuidado\n",
      "\n",
      "Palabras y sus pesos TF-IDF:\n",
      "descuidado: 0.6497\n",
      "sucio: 0.6497\n",
      "hospital: 0.3946\n"
     ]
    }
   ],
   "source": [
    "import random\n",
    "\n",
    "# Obtener el vocabulario\n",
    "feature_names = vectorizer.get_feature_names_out()\n",
    "\n",
    "# Seleccionar aleatoriamente una reseña del conjunto de entrenamiento\n",
    "doc_id = random.randint(0, X_train_vec.shape[0] - 1)\n",
    "vector = X_train_vec[doc_id].toarray()[0]\n",
    "\n",
    "# Mostrar palabras con sus pesos TF-IDF (solo las que aparecen)\n",
    "word_weights = {feature_names[i]: vector[i] for i in range(len(feature_names)) if vector[i] > 0}\n",
    "print(f\"Reseña seleccionada (índice {doc_id}): {X_train.iloc[doc_id]}\")\n",
    "print(\"\\nPalabras y sus pesos TF-IDF:\")\n",
    "for word, weight in sorted(word_weights.items(), key=lambda x: -x[1]):\n",
    "    print(f\"{word}: {weight:.4f}\")"
   ]
  },
  {
   "cell_type": "markdown",
   "id": "04f0982f",
   "metadata": {},
   "source": [
    "### 7.2. Visualizar con gráfico de barras"
   ]
  },
  {
   "cell_type": "code",
   "execution_count": 13,
   "id": "f9052773",
   "metadata": {},
   "outputs": [
    {
     "data": {
      "image/png": "[encoded data removed]",
      "text/plain": [
       "<Figure size 640x480 with 1 Axes>"
      ]
     },
     "metadata": {},
     "output_type": "display_data"
    }
   ],
   "source": [
    "import matplotlib.pyplot as plt\n",
    "\n",
    "plt.barh(list(word_weights.keys()), list(word_weights.values()))\n",
    "plt.xlabel(\"Peso TF-IDF\")\n",
    "plt.title(f\"Vector TF-IDF para la reseña {doc_id}\")\n",
    "plt.show()"
   ]
  },
  {
   "cell_type": "markdown",
   "id": "0ae23f95",
   "metadata": {},
   "source": [
    "### 7.3. Encontrar reseñas similares\n",
    "#### Fórmula de la similitud coseno  \n",
    "\n",
    "\\[\n",
    "\\text{Similitud coseno}(A, B) \\;=\\; \\frac{A \\cdot B}{\\|A\\| \\; \\|B\\|}\n",
    "\\]\n",
    "\n",
    "donde:  \n",
    "- \\( A \\cdot B \\) es el **producto punto** entre los vectores.  \n",
    "- \\( \\|A\\| \\) y \\( \\|B\\| \\) son las **magnitudes** (normas euclidianas) de los vectores.  "
   ]
  },
  {
   "cell_type": "code",
   "execution_count": 14,
   "id": "70255c59",
   "metadata": {},
   "outputs": [
    {
     "name": "stdout",
     "output_type": "stream",
     "text": [
      "\n",
      "📝 Reseña seleccionada:\n",
      "repetir exámenes errores administrativos\n",
      "\n",
      "🔎 Reseña más similar encontrada:\n",
      "repetir exámenes errores administrativos\n",
      "\n",
      "📊 Similitud coseno: 1.0000\n"
     ]
    }
   ],
   "source": [
    "import random\n",
    "from sklearn.metrics.pairwise import cosine_similarity\n",
    "import numpy as np\n",
    "\n",
    "# Calcular similitud coseno entre todos los documentos\n",
    "similarity_matrix = cosine_similarity(X_train_vec)\n",
    "\n",
    "# Seleccionar una reseña aleatoria\n",
    "doc_id = random.randint(0, X_train_vec.shape[0] - 1)\n",
    "\n",
    "# Buscar la reseña más parecida (excluyendo la misma)\n",
    "most_similar = np.argsort(similarity_matrix[doc_id])[-2]  # -1 sería la misma reseña\n",
    "\n",
    "print(\"\\n📝 Reseña seleccionada:\")\n",
    "print(X_train.iloc[doc_id])\n",
    "\n",
    "print(\"\\n🔎 Reseña más similar encontrada:\")\n",
    "print(X_train.iloc[most_similar])\n",
    "\n",
    "print(f\"\\n📊 Similitud coseno: {similarity_matrix[doc_id][most_similar]:.4f}\")\n"
   ]
  },
  {
   "cell_type": "markdown",
   "id": "d9ebe7e2",
   "metadata": {},
   "source": [
    "# ------------------------------\n",
    "# 8. Entrenamiento de modelos\n",
    "# ------------------------------"
   ]
  },
  {
   "cell_type": "code",
   "execution_count": 15,
   "id": "3c31d00b",
   "metadata": {},
   "outputs": [
    {
     "name": "stdout",
     "output_type": "stream",
     "text": [
      "Reporte de clasificación - Naive Bayes\n",
      "              precision    recall  f1-score   support\n",
      "\n",
      "    negativo       0.96      1.00      0.98        26\n",
      "    positivo       1.00      0.97      0.99        34\n",
      "\n",
      "    accuracy                           0.98        60\n",
      "   macro avg       0.98      0.99      0.98        60\n",
      "weighted avg       0.98      0.98      0.98        60\n",
      "\n",
      "Reporte de clasificación - Logistic Regression\n",
      "              precision    recall  f1-score   support\n",
      "\n",
      "    negativo       0.96      1.00      0.98        26\n",
      "    positivo       1.00      0.97      0.99        34\n",
      "\n",
      "    accuracy                           0.98        60\n",
      "   macro avg       0.98      0.99      0.98        60\n",
      "weighted avg       0.98      0.98      0.98        60\n",
      "\n"
     ]
    }
   ],
   "source": [
    "# --- Naive Bayes ---\n",
    "nb_model = MultinomialNB()\n",
    "nb_model.fit(X_train_vec, y_train)\n",
    "y_pred_nb = nb_model.predict(X_test_vec)\n",
    "\n",
    "print(\"Reporte de clasificación - Naive Bayes\")\n",
    "print(classification_report(y_test, y_pred_nb))\n",
    "\n",
    "# --- Logistic Regression ---\n",
    "lr_model = LogisticRegression()\n",
    "lr_model.fit(X_train_vec, y_train)\n",
    "y_pred_lr = lr_model.predict(X_test_vec)\n",
    "\n",
    "print(\"Reporte de clasificación - Logistic Regression\")\n",
    "print(classification_report(y_test, y_pred_lr))"
   ]
  },
  {
   "cell_type": "markdown",
   "id": "44fa2e63",
   "metadata": {},
   "source": [
    "# ------------------------------\n",
    "# 9. Matriz de confusión\n",
    "# ------------------------------"
   ]
  },
  {
   "cell_type": "code",
   "execution_count": 16,
   "id": "6a11c563",
   "metadata": {},
   "outputs": [
    {
     "data": {
      "image/png": "[encoded data removed]",
      "text/plain": [
       "<Figure size 640x480 with 2 Axes>"
      ]
     },
     "metadata": {},
     "output_type": "display_data"
    },
    {
     "data": {
      "image/png": "[encoded data removed]",
      "text/plain": [
       "<Figure size 640x480 with 2 Axes>"
      ]
     },
     "metadata": {},
     "output_type": "display_data"
    }
   ],
   "source": [
    "def plot_confusion(y_true, y_pred, title):\n",
    "    cm = confusion_matrix(y_true, y_pred)\n",
    "    sns.heatmap(cm, annot=True, fmt=\"d\", cmap=\"Blues\",\n",
    "                xticklabels=np.unique(y_true),\n",
    "                yticklabels=np.unique(y_true))\n",
    "    plt.xlabel(\"Predicho\")\n",
    "    plt.ylabel(\"Real\")\n",
    "    plt.title(title)\n",
    "    plt.show()\n",
    "\n",
    "plot_confusion(y_test, y_pred_nb, \"Matriz de Confusión - Naive Bayes\")\n",
    "plot_confusion(y_test, y_pred_lr, \"Matriz de Confusión - Logistic Regression\")\n"
   ]
  },
  {
   "cell_type": "markdown",
   "id": "5de457da",
   "metadata": {},
   "source": [
    "# ------------------------------\n",
    "# 10. Ejercicio para estudiantes\n",
    "# ------------------------------\n",
    "\n",
    "- **Ejercicio 1**: Probar otro clasificador, por ejemplo RandomForestClassifier, y comparar los resultados\n",
    "con Naive Bayes y Logistic Regression.  \n",
    "\n",
    "- **Ejercicio 2**: Añadir más reseñas médicas reales al dataset y evaluar cómo cambia el desempeño.\n",
    "\n"
   ]
  },
  {
   "cell_type": "markdown",
   "id": "d1fb53f1",
   "metadata": {},
   "source": [
    "# ------------------------------\n",
    "# 11. Reflexión final\n",
    "# ------------------------------\n",
    "\n",
    "La clasificación de texto en salud permite automatizar tareas de análisis de documentos y opiniones\n",
    "de pacientes, optimizando el trabajo del personal médico y administrativo.  \n",
    "\n",
    "Es importante considerar:\n",
    "- La calidad y tamaño del dataset.\n",
    "- El preprocesamiento adecuado del texto médico.\n",
    "- La selección de modelos y métricas correctas.\n",
    "\n",
    "El aprendizaje activo y la experimentación con distintos clasificadores permiten a los estudiantes\n",
    "comprender mejor cómo se comportan los modelos en textos reales de salud.\n"
   ]
  },
  {
   "cell_type": "code",
   "execution_count": null,
   "id": "95e7f360",
   "metadata": {},
   "outputs": [],
   "source": [
    "print(\"Hello world\")"
   ]
  }
 ],
 "metadata": {
  "kernelspec": {
   "display_name": "3.11.8",
   "language": "python",
   "name": "python3"
  },
  "language_info": {
   "codemirror_mode": {
    "name": "ipython",
    "version": 3
   },
   "file_extension": ".py",
   "mimetype": "text/x-python",
   "name": "python",
   "nbconvert_exporter": "python",
   "pygments_lexer": "ipython3",
   "version": "3.11.8"
  }
 },
 "nbformat": 4,
 "nbformat_minor": 5
}
